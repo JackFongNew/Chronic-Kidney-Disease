{
 "cells": [
  {
   "cell_type": "code",
   "execution_count": 79,
   "metadata": {},
   "outputs": [],
   "source": [
    "import pandas as pd\n",
    "import numpy as np\n",
    "import matplotlib.pyplot as plt\n",
    "import seaborn as sns\n",
    "import pickle\n",
    "\n",
    "from sklearn.preprocessing import StandardScaler\n",
    "from sklearn.model_selection import train_test_split, GridSearchCV, cross_val_score\n",
    "from sklearn.pipeline import Pipeline\n",
    "from sklearn.linear_model import LogisticRegression\n",
    "from sklearn.metrics import (confusion_matrix, classification_report, plot_roc_curve, roc_auc_score, plot_precision_recall_curve,\n",
    "                             accuracy_score, precision_score, recall_score, f1_score, auc)\n",
    "\n",
    "from sklearn.tree import DecisionTreeClassifier\n",
    "from sklearn.ensemble import RandomForestClassifier, ExtraTreesClassifier, GradientBoostingClassifier, AdaBoostClassifier\n",
    "from xgboost import XGBClassifier\n",
    "\n",
    "from sklearn.svm import SVC\n",
    "\n",
    "pd.options.display.max_columns = None\n",
    "pd.options.display.max_rows = None"
   ]
  },
  {
   "cell_type": "code",
   "execution_count": 128,
   "metadata": {},
   "outputs": [],
   "source": [
    "df = pd.read_csv('df_combined.csv')"
   ]
  },
  {
   "cell_type": "code",
   "execution_count": 129,
   "metadata": {},
   "outputs": [
    {
     "data": {
      "text/html": [
       "<div>\n",
       "<style scoped>\n",
       "    .dataframe tbody tr th:only-of-type {\n",
       "        vertical-align: middle;\n",
       "    }\n",
       "\n",
       "    .dataframe tbody tr th {\n",
       "        vertical-align: top;\n",
       "    }\n",
       "\n",
       "    .dataframe thead th {\n",
       "        text-align: right;\n",
       "    }\n",
       "</style>\n",
       "<table border=\"1\" class=\"dataframe\">\n",
       "  <thead>\n",
       "    <tr style=\"text-align: right;\">\n",
       "      <th></th>\n",
       "      <th>id</th>\n",
       "      <th>race</th>\n",
       "      <th>gender</th>\n",
       "      <th>age</th>\n",
       "      <th>Stage_Progress</th>\n",
       "      <th>blood_pressure</th>\n",
       "      <th>cholesterol</th>\n",
       "      <th>diabetes</th>\n",
       "      <th>min_cr</th>\n",
       "      <th>max_cr</th>\n",
       "      <th>mean_cr</th>\n",
       "      <th>std_cr</th>\n",
       "      <th>last_cr</th>\n",
       "      <th>min_dbp</th>\n",
       "      <th>max_dbp</th>\n",
       "      <th>mean_dbp</th>\n",
       "      <th>std_dbp</th>\n",
       "      <th>last_dbp</th>\n",
       "      <th>min_glu</th>\n",
       "      <th>max_glu</th>\n",
       "      <th>mean_glu</th>\n",
       "      <th>std_glu</th>\n",
       "      <th>last_glu</th>\n",
       "      <th>min_hgb</th>\n",
       "      <th>max_hgb</th>\n",
       "      <th>mean_hgb</th>\n",
       "      <th>std_hgb</th>\n",
       "      <th>last_hgb</th>\n",
       "      <th>min_ldl</th>\n",
       "      <th>max_ldl</th>\n",
       "      <th>mean_ldl</th>\n",
       "      <th>std_ldl</th>\n",
       "      <th>last_ldl</th>\n",
       "      <th>min_sbp</th>\n",
       "      <th>max_sbp</th>\n",
       "      <th>mean_sbp</th>\n",
       "      <th>std_sbp</th>\n",
       "      <th>last_sbp</th>\n",
       "      <th>egfr</th>\n",
       "    </tr>\n",
       "  </thead>\n",
       "  <tbody>\n",
       "    <tr>\n",
       "      <th>0</th>\n",
       "      <td>0</td>\n",
       "      <td>Unknown</td>\n",
       "      <td>Male</td>\n",
       "      <td>70</td>\n",
       "      <td>True</td>\n",
       "      <td>1.0</td>\n",
       "      <td>1.0</td>\n",
       "      <td>1.0</td>\n",
       "      <td>1.08</td>\n",
       "      <td>1.44</td>\n",
       "      <td>1.236667</td>\n",
       "      <td>0.123558</td>\n",
       "      <td>1.23</td>\n",
       "      <td>65.97</td>\n",
       "      <td>95.32</td>\n",
       "      <td>83.173750</td>\n",
       "      <td>8.439941</td>\n",
       "      <td>84.29</td>\n",
       "      <td>5.62</td>\n",
       "      <td>7.20</td>\n",
       "      <td>6.456667</td>\n",
       "      <td>0.671019</td>\n",
       "      <td>5.78</td>\n",
       "      <td>12.63</td>\n",
       "      <td>13.65</td>\n",
       "      <td>13.262222</td>\n",
       "      <td>0.336926</td>\n",
       "      <td>13.13</td>\n",
       "      <td>111.39</td>\n",
       "      <td>161.49</td>\n",
       "      <td>143.593333</td>\n",
       "      <td>27.946610</td>\n",
       "      <td>157.90</td>\n",
       "      <td>125.08</td>\n",
       "      <td>154.91</td>\n",
       "      <td>139.610000</td>\n",
       "      <td>11.202252</td>\n",
       "      <td>147.50</td>\n",
       "      <td>58.174498</td>\n",
       "    </tr>\n",
       "    <tr>\n",
       "      <th>1</th>\n",
       "      <td>1</td>\n",
       "      <td>White</td>\n",
       "      <td>Female</td>\n",
       "      <td>71</td>\n",
       "      <td>False</td>\n",
       "      <td>0.0</td>\n",
       "      <td>1.0</td>\n",
       "      <td>0.0</td>\n",
       "      <td>1.61</td>\n",
       "      <td>2.20</td>\n",
       "      <td>1.838000</td>\n",
       "      <td>0.219932</td>\n",
       "      <td>2.20</td>\n",
       "      <td>72.49</td>\n",
       "      <td>90.99</td>\n",
       "      <td>80.455714</td>\n",
       "      <td>6.509255</td>\n",
       "      <td>90.99</td>\n",
       "      <td>8.27</td>\n",
       "      <td>9.96</td>\n",
       "      <td>9.240000</td>\n",
       "      <td>0.818138</td>\n",
       "      <td>9.78</td>\n",
       "      <td>12.85</td>\n",
       "      <td>14.81</td>\n",
       "      <td>13.662857</td>\n",
       "      <td>0.740084</td>\n",
       "      <td>12.85</td>\n",
       "      <td>71.56</td>\n",
       "      <td>98.73</td>\n",
       "      <td>82.424000</td>\n",
       "      <td>11.520748</td>\n",
       "      <td>73.24</td>\n",
       "      <td>137.75</td>\n",
       "      <td>157.46</td>\n",
       "      <td>150.232857</td>\n",
       "      <td>6.919431</td>\n",
       "      <td>149.66</td>\n",
       "      <td>22.002941</td>\n",
       "    </tr>\n",
       "    <tr>\n",
       "      <th>2</th>\n",
       "      <td>2</td>\n",
       "      <td>White</td>\n",
       "      <td>Female</td>\n",
       "      <td>57</td>\n",
       "      <td>True</td>\n",
       "      <td>0.0</td>\n",
       "      <td>1.0</td>\n",
       "      <td>0.0</td>\n",
       "      <td>1.89</td>\n",
       "      <td>2.51</td>\n",
       "      <td>2.170000</td>\n",
       "      <td>0.239896</td>\n",
       "      <td>2.20</td>\n",
       "      <td>81.13</td>\n",
       "      <td>92.36</td>\n",
       "      <td>89.217500</td>\n",
       "      <td>5.402693</td>\n",
       "      <td>91.52</td>\n",
       "      <td>5.12</td>\n",
       "      <td>7.24</td>\n",
       "      <td>6.466667</td>\n",
       "      <td>1.170527</td>\n",
       "      <td>7.04</td>\n",
       "      <td>14.31</td>\n",
       "      <td>16.84</td>\n",
       "      <td>15.700000</td>\n",
       "      <td>0.820662</td>\n",
       "      <td>15.19</td>\n",
       "      <td>61.62</td>\n",
       "      <td>87.14</td>\n",
       "      <td>75.283333</td>\n",
       "      <td>12.855568</td>\n",
       "      <td>87.14</td>\n",
       "      <td>132.89</td>\n",
       "      <td>147.76</td>\n",
       "      <td>140.210000</td>\n",
       "      <td>6.758644</td>\n",
       "      <td>136.46</td>\n",
       "      <td>23.006131</td>\n",
       "    </tr>\n",
       "    <tr>\n",
       "      <th>3</th>\n",
       "      <td>3</td>\n",
       "      <td>White</td>\n",
       "      <td>Male</td>\n",
       "      <td>74</td>\n",
       "      <td>False</td>\n",
       "      <td>0.0</td>\n",
       "      <td>1.0</td>\n",
       "      <td>0.0</td>\n",
       "      <td>0.74</td>\n",
       "      <td>1.35</td>\n",
       "      <td>0.996000</td>\n",
       "      <td>0.235648</td>\n",
       "      <td>0.90</td>\n",
       "      <td>66.44</td>\n",
       "      <td>81.74</td>\n",
       "      <td>74.857143</td>\n",
       "      <td>6.390231</td>\n",
       "      <td>67.45</td>\n",
       "      <td>5.41</td>\n",
       "      <td>7.45</td>\n",
       "      <td>6.525000</td>\n",
       "      <td>0.838469</td>\n",
       "      <td>5.77</td>\n",
       "      <td>12.34</td>\n",
       "      <td>14.43</td>\n",
       "      <td>13.198000</td>\n",
       "      <td>0.818655</td>\n",
       "      <td>12.66</td>\n",
       "      <td>80.80</td>\n",
       "      <td>110.29</td>\n",
       "      <td>98.246000</td>\n",
       "      <td>10.749676</td>\n",
       "      <td>101.42</td>\n",
       "      <td>121.21</td>\n",
       "      <td>148.89</td>\n",
       "      <td>139.588571</td>\n",
       "      <td>11.282921</td>\n",
       "      <td>142.88</td>\n",
       "      <td>82.487502</td>\n",
       "    </tr>\n",
       "    <tr>\n",
       "      <th>4</th>\n",
       "      <td>4</td>\n",
       "      <td>White</td>\n",
       "      <td>Female</td>\n",
       "      <td>50</td>\n",
       "      <td>True</td>\n",
       "      <td>1.0</td>\n",
       "      <td>1.0</td>\n",
       "      <td>1.0</td>\n",
       "      <td>0.93</td>\n",
       "      <td>1.35</td>\n",
       "      <td>1.150000</td>\n",
       "      <td>0.166253</td>\n",
       "      <td>0.93</td>\n",
       "      <td>82.23</td>\n",
       "      <td>111.44</td>\n",
       "      <td>97.385714</td>\n",
       "      <td>10.760423</td>\n",
       "      <td>104.57</td>\n",
       "      <td>8.58</td>\n",
       "      <td>11.00</td>\n",
       "      <td>9.720000</td>\n",
       "      <td>0.924193</td>\n",
       "      <td>11.00</td>\n",
       "      <td>11.63</td>\n",
       "      <td>13.21</td>\n",
       "      <td>12.658000</td>\n",
       "      <td>0.613612</td>\n",
       "      <td>11.63</td>\n",
       "      <td>54.61</td>\n",
       "      <td>72.03</td>\n",
       "      <td>65.907500</td>\n",
       "      <td>8.037397</td>\n",
       "      <td>72.03</td>\n",
       "      <td>128.78</td>\n",
       "      <td>173.75</td>\n",
       "      <td>160.667143</td>\n",
       "      <td>15.205728</td>\n",
       "      <td>166.45</td>\n",
       "      <td>63.814845</td>\n",
       "    </tr>\n",
       "  </tbody>\n",
       "</table>\n",
       "</div>"
      ],
      "text/plain": [
       "   id     race  gender  age  Stage_Progress  blood_pressure  cholesterol  \\\n",
       "0   0  Unknown    Male   70            True             1.0          1.0   \n",
       "1   1    White  Female   71           False             0.0          1.0   \n",
       "2   2    White  Female   57            True             0.0          1.0   \n",
       "3   3    White    Male   74           False             0.0          1.0   \n",
       "4   4    White  Female   50            True             1.0          1.0   \n",
       "\n",
       "   diabetes  min_cr  max_cr   mean_cr    std_cr  last_cr  min_dbp  max_dbp  \\\n",
       "0       1.0    1.08    1.44  1.236667  0.123558     1.23    65.97    95.32   \n",
       "1       0.0    1.61    2.20  1.838000  0.219932     2.20    72.49    90.99   \n",
       "2       0.0    1.89    2.51  2.170000  0.239896     2.20    81.13    92.36   \n",
       "3       0.0    0.74    1.35  0.996000  0.235648     0.90    66.44    81.74   \n",
       "4       1.0    0.93    1.35  1.150000  0.166253     0.93    82.23   111.44   \n",
       "\n",
       "    mean_dbp    std_dbp  last_dbp  min_glu  max_glu  mean_glu   std_glu  \\\n",
       "0  83.173750   8.439941     84.29     5.62     7.20  6.456667  0.671019   \n",
       "1  80.455714   6.509255     90.99     8.27     9.96  9.240000  0.818138   \n",
       "2  89.217500   5.402693     91.52     5.12     7.24  6.466667  1.170527   \n",
       "3  74.857143   6.390231     67.45     5.41     7.45  6.525000  0.838469   \n",
       "4  97.385714  10.760423    104.57     8.58    11.00  9.720000  0.924193   \n",
       "\n",
       "   last_glu  min_hgb  max_hgb   mean_hgb   std_hgb  last_hgb  min_ldl  \\\n",
       "0      5.78    12.63    13.65  13.262222  0.336926     13.13   111.39   \n",
       "1      9.78    12.85    14.81  13.662857  0.740084     12.85    71.56   \n",
       "2      7.04    14.31    16.84  15.700000  0.820662     15.19    61.62   \n",
       "3      5.77    12.34    14.43  13.198000  0.818655     12.66    80.80   \n",
       "4     11.00    11.63    13.21  12.658000  0.613612     11.63    54.61   \n",
       "\n",
       "   max_ldl    mean_ldl    std_ldl  last_ldl  min_sbp  max_sbp    mean_sbp  \\\n",
       "0   161.49  143.593333  27.946610    157.90   125.08   154.91  139.610000   \n",
       "1    98.73   82.424000  11.520748     73.24   137.75   157.46  150.232857   \n",
       "2    87.14   75.283333  12.855568     87.14   132.89   147.76  140.210000   \n",
       "3   110.29   98.246000  10.749676    101.42   121.21   148.89  139.588571   \n",
       "4    72.03   65.907500   8.037397     72.03   128.78   173.75  160.667143   \n",
       "\n",
       "     std_sbp  last_sbp       egfr  \n",
       "0  11.202252    147.50  58.174498  \n",
       "1   6.919431    149.66  22.002941  \n",
       "2   6.758644    136.46  23.006131  \n",
       "3  11.282921    142.88  82.487502  \n",
       "4  15.205728    166.45  63.814845  "
      ]
     },
     "execution_count": 129,
     "metadata": {},
     "output_type": "execute_result"
    }
   ],
   "source": [
    "df.head()"
   ]
  },
  {
   "cell_type": "code",
   "execution_count": 130,
   "metadata": {},
   "outputs": [],
   "source": [
    "# convert categorical variables into binary vectors.\n",
    "df = pd.get_dummies(data=df, columns= ['race'])"
   ]
  },
  {
   "cell_type": "code",
   "execution_count": 131,
   "metadata": {},
   "outputs": [],
   "source": [
    "# Convert Female to 0 and Male to 1\n",
    "df['gender'] = df['gender'].replace({'Female':0, 'Male':1})\n",
    "\n",
    "# Convert True to 1 and False to 0\n",
    "df['Stage_Progress'] = df['Stage_Progress'].astype(int)"
   ]
  },
  {
   "cell_type": "code",
   "execution_count": 132,
   "metadata": {},
   "outputs": [
    {
     "data": {
      "text/html": [
       "<div>\n",
       "<style scoped>\n",
       "    .dataframe tbody tr th:only-of-type {\n",
       "        vertical-align: middle;\n",
       "    }\n",
       "\n",
       "    .dataframe tbody tr th {\n",
       "        vertical-align: top;\n",
       "    }\n",
       "\n",
       "    .dataframe thead th {\n",
       "        text-align: right;\n",
       "    }\n",
       "</style>\n",
       "<table border=\"1\" class=\"dataframe\">\n",
       "  <thead>\n",
       "    <tr style=\"text-align: right;\">\n",
       "      <th></th>\n",
       "      <th>id</th>\n",
       "      <th>gender</th>\n",
       "      <th>age</th>\n",
       "      <th>Stage_Progress</th>\n",
       "      <th>blood_pressure</th>\n",
       "      <th>cholesterol</th>\n",
       "      <th>diabetes</th>\n",
       "      <th>min_cr</th>\n",
       "      <th>max_cr</th>\n",
       "      <th>mean_cr</th>\n",
       "      <th>std_cr</th>\n",
       "      <th>last_cr</th>\n",
       "      <th>min_dbp</th>\n",
       "      <th>max_dbp</th>\n",
       "      <th>mean_dbp</th>\n",
       "      <th>std_dbp</th>\n",
       "      <th>last_dbp</th>\n",
       "      <th>min_glu</th>\n",
       "      <th>max_glu</th>\n",
       "      <th>mean_glu</th>\n",
       "      <th>std_glu</th>\n",
       "      <th>last_glu</th>\n",
       "      <th>min_hgb</th>\n",
       "      <th>max_hgb</th>\n",
       "      <th>mean_hgb</th>\n",
       "      <th>std_hgb</th>\n",
       "      <th>last_hgb</th>\n",
       "      <th>min_ldl</th>\n",
       "      <th>max_ldl</th>\n",
       "      <th>mean_ldl</th>\n",
       "      <th>std_ldl</th>\n",
       "      <th>last_ldl</th>\n",
       "      <th>min_sbp</th>\n",
       "      <th>max_sbp</th>\n",
       "      <th>mean_sbp</th>\n",
       "      <th>std_sbp</th>\n",
       "      <th>last_sbp</th>\n",
       "      <th>egfr</th>\n",
       "      <th>race_Asian</th>\n",
       "      <th>race_Black</th>\n",
       "      <th>race_Hispanic</th>\n",
       "      <th>race_Unknown</th>\n",
       "      <th>race_White</th>\n",
       "    </tr>\n",
       "  </thead>\n",
       "  <tbody>\n",
       "    <tr>\n",
       "      <th>0</th>\n",
       "      <td>0</td>\n",
       "      <td>1</td>\n",
       "      <td>70</td>\n",
       "      <td>1</td>\n",
       "      <td>1.0</td>\n",
       "      <td>1.0</td>\n",
       "      <td>1.0</td>\n",
       "      <td>1.08</td>\n",
       "      <td>1.44</td>\n",
       "      <td>1.236667</td>\n",
       "      <td>0.123558</td>\n",
       "      <td>1.23</td>\n",
       "      <td>65.97</td>\n",
       "      <td>95.32</td>\n",
       "      <td>83.173750</td>\n",
       "      <td>8.439941</td>\n",
       "      <td>84.29</td>\n",
       "      <td>5.62</td>\n",
       "      <td>7.20</td>\n",
       "      <td>6.456667</td>\n",
       "      <td>0.671019</td>\n",
       "      <td>5.78</td>\n",
       "      <td>12.63</td>\n",
       "      <td>13.65</td>\n",
       "      <td>13.262222</td>\n",
       "      <td>0.336926</td>\n",
       "      <td>13.13</td>\n",
       "      <td>111.39</td>\n",
       "      <td>161.49</td>\n",
       "      <td>143.593333</td>\n",
       "      <td>27.946610</td>\n",
       "      <td>157.90</td>\n",
       "      <td>125.08</td>\n",
       "      <td>154.91</td>\n",
       "      <td>139.610000</td>\n",
       "      <td>11.202252</td>\n",
       "      <td>147.50</td>\n",
       "      <td>58.174498</td>\n",
       "      <td>0</td>\n",
       "      <td>0</td>\n",
       "      <td>0</td>\n",
       "      <td>1</td>\n",
       "      <td>0</td>\n",
       "    </tr>\n",
       "    <tr>\n",
       "      <th>1</th>\n",
       "      <td>1</td>\n",
       "      <td>0</td>\n",
       "      <td>71</td>\n",
       "      <td>0</td>\n",
       "      <td>0.0</td>\n",
       "      <td>1.0</td>\n",
       "      <td>0.0</td>\n",
       "      <td>1.61</td>\n",
       "      <td>2.20</td>\n",
       "      <td>1.838000</td>\n",
       "      <td>0.219932</td>\n",
       "      <td>2.20</td>\n",
       "      <td>72.49</td>\n",
       "      <td>90.99</td>\n",
       "      <td>80.455714</td>\n",
       "      <td>6.509255</td>\n",
       "      <td>90.99</td>\n",
       "      <td>8.27</td>\n",
       "      <td>9.96</td>\n",
       "      <td>9.240000</td>\n",
       "      <td>0.818138</td>\n",
       "      <td>9.78</td>\n",
       "      <td>12.85</td>\n",
       "      <td>14.81</td>\n",
       "      <td>13.662857</td>\n",
       "      <td>0.740084</td>\n",
       "      <td>12.85</td>\n",
       "      <td>71.56</td>\n",
       "      <td>98.73</td>\n",
       "      <td>82.424000</td>\n",
       "      <td>11.520748</td>\n",
       "      <td>73.24</td>\n",
       "      <td>137.75</td>\n",
       "      <td>157.46</td>\n",
       "      <td>150.232857</td>\n",
       "      <td>6.919431</td>\n",
       "      <td>149.66</td>\n",
       "      <td>22.002941</td>\n",
       "      <td>0</td>\n",
       "      <td>0</td>\n",
       "      <td>0</td>\n",
       "      <td>0</td>\n",
       "      <td>1</td>\n",
       "    </tr>\n",
       "    <tr>\n",
       "      <th>2</th>\n",
       "      <td>2</td>\n",
       "      <td>0</td>\n",
       "      <td>57</td>\n",
       "      <td>1</td>\n",
       "      <td>0.0</td>\n",
       "      <td>1.0</td>\n",
       "      <td>0.0</td>\n",
       "      <td>1.89</td>\n",
       "      <td>2.51</td>\n",
       "      <td>2.170000</td>\n",
       "      <td>0.239896</td>\n",
       "      <td>2.20</td>\n",
       "      <td>81.13</td>\n",
       "      <td>92.36</td>\n",
       "      <td>89.217500</td>\n",
       "      <td>5.402693</td>\n",
       "      <td>91.52</td>\n",
       "      <td>5.12</td>\n",
       "      <td>7.24</td>\n",
       "      <td>6.466667</td>\n",
       "      <td>1.170527</td>\n",
       "      <td>7.04</td>\n",
       "      <td>14.31</td>\n",
       "      <td>16.84</td>\n",
       "      <td>15.700000</td>\n",
       "      <td>0.820662</td>\n",
       "      <td>15.19</td>\n",
       "      <td>61.62</td>\n",
       "      <td>87.14</td>\n",
       "      <td>75.283333</td>\n",
       "      <td>12.855568</td>\n",
       "      <td>87.14</td>\n",
       "      <td>132.89</td>\n",
       "      <td>147.76</td>\n",
       "      <td>140.210000</td>\n",
       "      <td>6.758644</td>\n",
       "      <td>136.46</td>\n",
       "      <td>23.006131</td>\n",
       "      <td>0</td>\n",
       "      <td>0</td>\n",
       "      <td>0</td>\n",
       "      <td>0</td>\n",
       "      <td>1</td>\n",
       "    </tr>\n",
       "    <tr>\n",
       "      <th>3</th>\n",
       "      <td>3</td>\n",
       "      <td>1</td>\n",
       "      <td>74</td>\n",
       "      <td>0</td>\n",
       "      <td>0.0</td>\n",
       "      <td>1.0</td>\n",
       "      <td>0.0</td>\n",
       "      <td>0.74</td>\n",
       "      <td>1.35</td>\n",
       "      <td>0.996000</td>\n",
       "      <td>0.235648</td>\n",
       "      <td>0.90</td>\n",
       "      <td>66.44</td>\n",
       "      <td>81.74</td>\n",
       "      <td>74.857143</td>\n",
       "      <td>6.390231</td>\n",
       "      <td>67.45</td>\n",
       "      <td>5.41</td>\n",
       "      <td>7.45</td>\n",
       "      <td>6.525000</td>\n",
       "      <td>0.838469</td>\n",
       "      <td>5.77</td>\n",
       "      <td>12.34</td>\n",
       "      <td>14.43</td>\n",
       "      <td>13.198000</td>\n",
       "      <td>0.818655</td>\n",
       "      <td>12.66</td>\n",
       "      <td>80.80</td>\n",
       "      <td>110.29</td>\n",
       "      <td>98.246000</td>\n",
       "      <td>10.749676</td>\n",
       "      <td>101.42</td>\n",
       "      <td>121.21</td>\n",
       "      <td>148.89</td>\n",
       "      <td>139.588571</td>\n",
       "      <td>11.282921</td>\n",
       "      <td>142.88</td>\n",
       "      <td>82.487502</td>\n",
       "      <td>0</td>\n",
       "      <td>0</td>\n",
       "      <td>0</td>\n",
       "      <td>0</td>\n",
       "      <td>1</td>\n",
       "    </tr>\n",
       "    <tr>\n",
       "      <th>4</th>\n",
       "      <td>4</td>\n",
       "      <td>0</td>\n",
       "      <td>50</td>\n",
       "      <td>1</td>\n",
       "      <td>1.0</td>\n",
       "      <td>1.0</td>\n",
       "      <td>1.0</td>\n",
       "      <td>0.93</td>\n",
       "      <td>1.35</td>\n",
       "      <td>1.150000</td>\n",
       "      <td>0.166253</td>\n",
       "      <td>0.93</td>\n",
       "      <td>82.23</td>\n",
       "      <td>111.44</td>\n",
       "      <td>97.385714</td>\n",
       "      <td>10.760423</td>\n",
       "      <td>104.57</td>\n",
       "      <td>8.58</td>\n",
       "      <td>11.00</td>\n",
       "      <td>9.720000</td>\n",
       "      <td>0.924193</td>\n",
       "      <td>11.00</td>\n",
       "      <td>11.63</td>\n",
       "      <td>13.21</td>\n",
       "      <td>12.658000</td>\n",
       "      <td>0.613612</td>\n",
       "      <td>11.63</td>\n",
       "      <td>54.61</td>\n",
       "      <td>72.03</td>\n",
       "      <td>65.907500</td>\n",
       "      <td>8.037397</td>\n",
       "      <td>72.03</td>\n",
       "      <td>128.78</td>\n",
       "      <td>173.75</td>\n",
       "      <td>160.667143</td>\n",
       "      <td>15.205728</td>\n",
       "      <td>166.45</td>\n",
       "      <td>63.814845</td>\n",
       "      <td>0</td>\n",
       "      <td>0</td>\n",
       "      <td>0</td>\n",
       "      <td>0</td>\n",
       "      <td>1</td>\n",
       "    </tr>\n",
       "  </tbody>\n",
       "</table>\n",
       "</div>"
      ],
      "text/plain": [
       "   id  gender  age  Stage_Progress  blood_pressure  cholesterol  diabetes  \\\n",
       "0   0       1   70               1             1.0          1.0       1.0   \n",
       "1   1       0   71               0             0.0          1.0       0.0   \n",
       "2   2       0   57               1             0.0          1.0       0.0   \n",
       "3   3       1   74               0             0.0          1.0       0.0   \n",
       "4   4       0   50               1             1.0          1.0       1.0   \n",
       "\n",
       "   min_cr  max_cr   mean_cr    std_cr  last_cr  min_dbp  max_dbp   mean_dbp  \\\n",
       "0    1.08    1.44  1.236667  0.123558     1.23    65.97    95.32  83.173750   \n",
       "1    1.61    2.20  1.838000  0.219932     2.20    72.49    90.99  80.455714   \n",
       "2    1.89    2.51  2.170000  0.239896     2.20    81.13    92.36  89.217500   \n",
       "3    0.74    1.35  0.996000  0.235648     0.90    66.44    81.74  74.857143   \n",
       "4    0.93    1.35  1.150000  0.166253     0.93    82.23   111.44  97.385714   \n",
       "\n",
       "     std_dbp  last_dbp  min_glu  max_glu  mean_glu   std_glu  last_glu  \\\n",
       "0   8.439941     84.29     5.62     7.20  6.456667  0.671019      5.78   \n",
       "1   6.509255     90.99     8.27     9.96  9.240000  0.818138      9.78   \n",
       "2   5.402693     91.52     5.12     7.24  6.466667  1.170527      7.04   \n",
       "3   6.390231     67.45     5.41     7.45  6.525000  0.838469      5.77   \n",
       "4  10.760423    104.57     8.58    11.00  9.720000  0.924193     11.00   \n",
       "\n",
       "   min_hgb  max_hgb   mean_hgb   std_hgb  last_hgb  min_ldl  max_ldl  \\\n",
       "0    12.63    13.65  13.262222  0.336926     13.13   111.39   161.49   \n",
       "1    12.85    14.81  13.662857  0.740084     12.85    71.56    98.73   \n",
       "2    14.31    16.84  15.700000  0.820662     15.19    61.62    87.14   \n",
       "3    12.34    14.43  13.198000  0.818655     12.66    80.80   110.29   \n",
       "4    11.63    13.21  12.658000  0.613612     11.63    54.61    72.03   \n",
       "\n",
       "     mean_ldl    std_ldl  last_ldl  min_sbp  max_sbp    mean_sbp    std_sbp  \\\n",
       "0  143.593333  27.946610    157.90   125.08   154.91  139.610000  11.202252   \n",
       "1   82.424000  11.520748     73.24   137.75   157.46  150.232857   6.919431   \n",
       "2   75.283333  12.855568     87.14   132.89   147.76  140.210000   6.758644   \n",
       "3   98.246000  10.749676    101.42   121.21   148.89  139.588571  11.282921   \n",
       "4   65.907500   8.037397     72.03   128.78   173.75  160.667143  15.205728   \n",
       "\n",
       "   last_sbp       egfr  race_Asian  race_Black  race_Hispanic  race_Unknown  \\\n",
       "0    147.50  58.174498           0           0              0             1   \n",
       "1    149.66  22.002941           0           0              0             0   \n",
       "2    136.46  23.006131           0           0              0             0   \n",
       "3    142.88  82.487502           0           0              0             0   \n",
       "4    166.45  63.814845           0           0              0             0   \n",
       "\n",
       "   race_White  \n",
       "0           0  \n",
       "1           1  \n",
       "2           1  \n",
       "3           1  \n",
       "4           1  "
      ]
     },
     "execution_count": 132,
     "metadata": {},
     "output_type": "execute_result"
    }
   ],
   "source": [
    "df.head()"
   ]
  },
  {
   "cell_type": "markdown",
   "metadata": {},
   "source": [
    "In this section, we tested out a variety of predictive models. We carried out the following process:\n",
    "- Train-test-split data\n",
    "- Calculate baseline and benchmark models\n",
    "- Fit model to the training data\n",
    "- Carried out hyper-parameter tuning on our most promising models \n",
    "- Identified our top-performing model based on the ROC-AUC score"
   ]
  },
  {
   "cell_type": "code",
   "execution_count": 133,
   "metadata": {},
   "outputs": [],
   "source": [
    "df.to_csv('df_variables.csv', index=False)"
   ]
  },
  {
   "cell_type": "markdown",
   "metadata": {},
   "source": [
    "## Train Test Split"
   ]
  },
  {
   "cell_type": "code",
   "execution_count": 7,
   "metadata": {},
   "outputs": [],
   "source": [
    "X = df.drop(columns=['id','Stage_Progress'])\n",
    "y = df['Stage_Progress']"
   ]
  },
  {
   "cell_type": "code",
   "execution_count": 8,
   "metadata": {},
   "outputs": [],
   "source": [
    "X_train, X_test, y_train, y_test = train_test_split(X, y, train_size=0.75, stratify=y, random_state=9)"
   ]
  },
  {
   "cell_type": "markdown",
   "metadata": {},
   "source": [
    "## Baseline Model"
   ]
  },
  {
   "attachments": {},
   "cell_type": "markdown",
   "metadata": {},
   "source": [
    "For this problem, I believe that using the Area Under Curve (AUC) as a metric will be an appropriate idea because it focuses on our sensitivity and specificity of our model. To elaborate, AUC measures how true positive rate (recall) and false positive rate trade-off. This reveals how good a model is at distinguishing between positive class and negative class. By analogy, the Higher the AUC, the better the model is at distinguishing whether the patients will progress with CKD or not in the future.\n",
    "\n",
    "Using an AUC Reciever Operating Characteristic or AUC-ROC curve, __we can visually compare the true positive and false positive rates at a range of different classification thresholds to identify our best model__."
   ]
  },
  {
   "cell_type": "code",
   "execution_count": 9,
   "metadata": {},
   "outputs": [
    {
     "data": {
      "text/plain": [
       "0    0.666667\n",
       "1    0.333333\n",
       "Name: Stage_Progress, dtype: float64"
      ]
     },
     "execution_count": 9,
     "metadata": {},
     "output_type": "execute_result"
    }
   ],
   "source": [
    "# Baseline\n",
    "y.value_counts(normalize=True)"
   ]
  },
  {
   "cell_type": "markdown",
   "metadata": {},
   "source": [
    "We can see that our base model have 67% or the False Stage Progress and 33% of the True Stage Progress."
   ]
  },
  {
   "cell_type": "code",
   "execution_count": 10,
   "metadata": {},
   "outputs": [],
   "source": [
    "# Instiantiate models\n",
    "models = {'lr': LogisticRegression(random_state=19),\n",
    "          'rf': RandomForestClassifier(random_state=19),\n",
    "          'et': ExtraTreesClassifier(random_state=19),\n",
    "          'svc': SVC(random_state=19),\n",
    "          'ada': AdaBoostClassifier(random_state=19),\n",
    "          'gb': GradientBoostingClassifier(random_state=19),\n",
    "          'xgb': XGBClassifier(random_state=19)\n",
    "        }"
   ]
  },
  {
   "cell_type": "code",
   "execution_count": 11,
   "metadata": {},
   "outputs": [],
   "source": [
    "# Instantiate lists to store results\n",
    "init_list = []\n",
    "gs_list = []\n",
    "\n",
    "# Function to run model -- input scaler and model\n",
    "def run_model(mod, mod_params={}, grid_search=False):\n",
    "    \n",
    "    # Initial dictionary to hold model results\n",
    "    results = {}\n",
    "    \n",
    "    pipe = Pipeline([\n",
    "            ('ss', StandardScaler()),\n",
    "            (mod, models[mod])\n",
    "            ])\n",
    "    \n",
    "    if grid_search:\n",
    "        # Instantiate list to store gridsearch results\n",
    "        gs = GridSearchCV(pipe, param_grid=mod_params, cv=5, verbose=1, scoring='roc_auc', n_jobs=-1)\n",
    "        gs.fit(X_train, y_train)\n",
    "        pipe = gs.best_estimator_\n",
    "        \n",
    "    else:\n",
    "        pipe.fit(X_train, y_train)\n",
    "    \n",
    "    # Retrieve metrics\n",
    "    predictions = pipe.predict(X_test)\n",
    "    tn, fp, fn, tp = confusion_matrix(y_test, predictions).ravel()\n",
    "    y_test_pred_prob = pipe.predict_proba(X_test)[:,1]\n",
    "    y_train_pred_prob = pipe.predict_proba(X_train)[:,1]\n",
    "    \n",
    "    results['model'] = mod\n",
    "    results['train_auc'] = roc_auc_score(y_train, y_train_pred_prob)\n",
    "    results['test_auc'] = roc_auc_score(y_test, y_test_pred_prob)\n",
    "    results['precision'] = precision_score(y_test, predictions)\n",
    "    results['specificity'] = tn / (tn + fp)\n",
    "    results['recall'] = recall_score(y_test, predictions)\n",
    "    results['f_score'] = f1_score(y_test, predictions)\n",
    "    \n",
    "    if grid_search:\n",
    "        gs_list.append(results)\n",
    "        print('### BEST PARAMS ###')\n",
    "        display(pipe)\n",
    "        \n",
    "    else:\n",
    "        init_list.append(results)\n",
    "    \n",
    "    print('### METRICS ###')\n",
    "    display(results)\n",
    "    \n",
    "    print(f\"True Negatives: {tn}\")\n",
    "    print(f\"False Positives: {fp}\")\n",
    "    print(f\"False Negatives: {fn}\")\n",
    "    print(f\"True Positives: {tp}\")\n",
    "    \n",
    "    return pipe"
   ]
  },
  {
   "cell_type": "markdown",
   "metadata": {},
   "source": [
    "### Logistic Regression\n",
    "\n",
    "It is a classification algorithm that is generally used for binary classification. It uses a logistic function to find the probability of occurrence of the selected class."
   ]
  },
  {
   "cell_type": "code",
   "execution_count": 182,
   "metadata": {
    "scrolled": true
   },
   "outputs": [
    {
     "data": {
      "text/plain": [
       "{'memory': None,\n",
       " 'steps': [('lr', LogisticRegression())],\n",
       " 'verbose': False,\n",
       " 'lr': LogisticRegression(),\n",
       " 'lr__C': 1.0,\n",
       " 'lr__class_weight': None,\n",
       " 'lr__dual': False,\n",
       " 'lr__fit_intercept': True,\n",
       " 'lr__intercept_scaling': 1,\n",
       " 'lr__l1_ratio': None,\n",
       " 'lr__max_iter': 100,\n",
       " 'lr__multi_class': 'auto',\n",
       " 'lr__n_jobs': None,\n",
       " 'lr__penalty': 'l2',\n",
       " 'lr__random_state': None,\n",
       " 'lr__solver': 'lbfgs',\n",
       " 'lr__tol': 0.0001,\n",
       " 'lr__verbose': 0,\n",
       " 'lr__warm_start': False}"
      ]
     },
     "execution_count": 182,
     "metadata": {},
     "output_type": "execute_result"
    }
   ],
   "source": [
    "Pipeline([('lr', LogisticRegression())]).get_params()"
   ]
  },
  {
   "cell_type": "code",
   "execution_count": 185,
   "metadata": {},
   "outputs": [],
   "source": [
    "lr_params = {\n",
    "    'lr__class_weight': ['balance'],\n",
    "    'lr__solver': ['saga'],\n",
    "    'lr__penalty': ['elasticnet'],\n",
    "    'lr__l1_ratio': [0.25, 0.5, 0.75],\n",
    "    'lr__C': [0.1, 0.5, 0.75],\n",
    "    'lr__max_iter': [500, 700]\n",
    "            }"
   ]
  },
  {
   "cell_type": "code",
   "execution_count": 186,
   "metadata": {},
   "outputs": [
    {
     "name": "stdout",
     "output_type": "stream",
     "text": [
      "Fitting 5 folds for each of 18 candidates, totalling 90 fits\n",
      "### BEST PARAMS ###\n"
     ]
    },
    {
     "data": {
      "text/plain": [
       "Pipeline(steps=[('ss', StandardScaler()),\n",
       "                ('lr',\n",
       "                 LogisticRegression(C=0.75, class_weight='balance',\n",
       "                                    l1_ratio=0.25, max_iter=500,\n",
       "                                    penalty='elasticnet', random_state=19,\n",
       "                                    solver='saga'))])"
      ]
     },
     "metadata": {},
     "output_type": "display_data"
    },
    {
     "name": "stdout",
     "output_type": "stream",
     "text": [
      "### METRICS ###\n"
     ]
    },
    {
     "data": {
      "text/plain": [
       "{'model': 'lr',\n",
       " 'train_auc': 0.8823111111111112,\n",
       " 'test_auc': 0.8432,\n",
       " 'precision': 0.8,\n",
       " 'specificity': 0.92,\n",
       " 'recall': 0.64,\n",
       " 'f_score': 0.7111111111111111}"
      ]
     },
     "metadata": {},
     "output_type": "display_data"
    },
    {
     "name": "stdout",
     "output_type": "stream",
     "text": [
      "True Negatives: 46\n",
      "False Positives: 4\n",
      "False Negatives: 9\n",
      "True Positives: 16\n"
     ]
    }
   ],
   "source": [
    "lr_gs = run_model('lr', mod_params=lr_params, grid_search=True)"
   ]
  },
  {
   "cell_type": "markdown",
   "metadata": {},
   "source": [
    "### Random Forest \n",
    "\n",
    "Random Forest is an improvement of decision trees, where multiple decision trees are merged into one forest. At each split in the tree, the algorithm is not allowed to consider all the available predictors/attributes. This is implemented to avoid using the same major predictor in all of the trees, i.e., to force the trees to use lesser important predictors."
   ]
  },
  {
   "cell_type": "code",
   "execution_count": 15,
   "metadata": {},
   "outputs": [
    {
     "data": {
      "text/plain": [
       "{'memory': None,\n",
       " 'steps': [('rf', RandomForestClassifier())],\n",
       " 'verbose': False,\n",
       " 'rf': RandomForestClassifier(),\n",
       " 'rf__bootstrap': True,\n",
       " 'rf__ccp_alpha': 0.0,\n",
       " 'rf__class_weight': None,\n",
       " 'rf__criterion': 'gini',\n",
       " 'rf__max_depth': None,\n",
       " 'rf__max_features': 'auto',\n",
       " 'rf__max_leaf_nodes': None,\n",
       " 'rf__max_samples': None,\n",
       " 'rf__min_impurity_decrease': 0.0,\n",
       " 'rf__min_impurity_split': None,\n",
       " 'rf__min_samples_leaf': 1,\n",
       " 'rf__min_samples_split': 2,\n",
       " 'rf__min_weight_fraction_leaf': 0.0,\n",
       " 'rf__n_estimators': 100,\n",
       " 'rf__n_jobs': None,\n",
       " 'rf__oob_score': False,\n",
       " 'rf__random_state': None,\n",
       " 'rf__verbose': 0,\n",
       " 'rf__warm_start': False}"
      ]
     },
     "execution_count": 15,
     "metadata": {},
     "output_type": "execute_result"
    }
   ],
   "source": [
    "Pipeline([('rf', RandomForestClassifier())]).get_params()"
   ]
  },
  {
   "cell_type": "code",
   "execution_count": 16,
   "metadata": {},
   "outputs": [],
   "source": [
    "rf_params = {\n",
    "    'rf__n_estimators': [70],\n",
    "    'rf__max_depth': [10, 15],\n",
    "    'rf__min_samples_leaf': [5, 10],\n",
    "    'rf__max_leaf_nodes': [5, 10, 15],\n",
    "    'rf__class_weight': [\"balanced\", \"balanced_subsample\"]\n",
    "            }"
   ]
  },
  {
   "cell_type": "code",
   "execution_count": 17,
   "metadata": {},
   "outputs": [
    {
     "name": "stdout",
     "output_type": "stream",
     "text": [
      "Fitting 5 folds for each of 24 candidates, totalling 120 fits\n",
      "### BEST PARAMS ###\n"
     ]
    },
    {
     "data": {
      "text/plain": [
       "Pipeline(steps=[('ss', StandardScaler()),\n",
       "                ('rf',\n",
       "                 RandomForestClassifier(class_weight='balanced', max_depth=10,\n",
       "                                        max_leaf_nodes=10, min_samples_leaf=5,\n",
       "                                        n_estimators=70, random_state=19))])"
      ]
     },
     "metadata": {},
     "output_type": "display_data"
    },
    {
     "name": "stdout",
     "output_type": "stream",
     "text": [
      "### METRICS ###\n"
     ]
    },
    {
     "data": {
      "text/plain": [
       "{'model': 'rf',\n",
       " 'train_auc': 0.9882666666666667,\n",
       " 'test_auc': 0.7912,\n",
       " 'precision': 0.7894736842105263,\n",
       " 'specificity': 0.92,\n",
       " 'recall': 0.6,\n",
       " 'f_score': 0.6818181818181819}"
      ]
     },
     "metadata": {},
     "output_type": "display_data"
    },
    {
     "name": "stdout",
     "output_type": "stream",
     "text": [
      "True Negatives: 46\n",
      "False Positives: 4\n",
      "False Negatives: 10\n",
      "True Positives: 15\n"
     ]
    }
   ],
   "source": [
    "rf_gs = run_model('rf', mod_params=rf_params, grid_search=True)"
   ]
  },
  {
   "cell_type": "markdown",
   "metadata": {},
   "source": [
    "### Extra Tree\n",
    "\n",
    "The Extra Trees algorithm works by creating a large number of unpruned decision trees from the training dataset. Predictions are made by averaging the prediction from decision trees."
   ]
  },
  {
   "cell_type": "code",
   "execution_count": 18,
   "metadata": {},
   "outputs": [
    {
     "data": {
      "text/plain": [
       "{'memory': None,\n",
       " 'steps': [('et', ExtraTreesClassifier())],\n",
       " 'verbose': False,\n",
       " 'et': ExtraTreesClassifier(),\n",
       " 'et__bootstrap': False,\n",
       " 'et__ccp_alpha': 0.0,\n",
       " 'et__class_weight': None,\n",
       " 'et__criterion': 'gini',\n",
       " 'et__max_depth': None,\n",
       " 'et__max_features': 'auto',\n",
       " 'et__max_leaf_nodes': None,\n",
       " 'et__max_samples': None,\n",
       " 'et__min_impurity_decrease': 0.0,\n",
       " 'et__min_impurity_split': None,\n",
       " 'et__min_samples_leaf': 1,\n",
       " 'et__min_samples_split': 2,\n",
       " 'et__min_weight_fraction_leaf': 0.0,\n",
       " 'et__n_estimators': 100,\n",
       " 'et__n_jobs': None,\n",
       " 'et__oob_score': False,\n",
       " 'et__random_state': None,\n",
       " 'et__verbose': 0,\n",
       " 'et__warm_start': False}"
      ]
     },
     "execution_count": 18,
     "metadata": {},
     "output_type": "execute_result"
    }
   ],
   "source": [
    "Pipeline([('et', ExtraTreesClassifier())]).get_params()"
   ]
  },
  {
   "cell_type": "code",
   "execution_count": 19,
   "metadata": {},
   "outputs": [],
   "source": [
    "et_params = {\n",
    "    'et__n_estimators': [30, 50, 70],\n",
    "    'et__max_depth': [8, 10, 12],\n",
    "    'et__min_samples_leaf': [1, 2, 3],\n",
    "    'et__max_leaf_nodes': [5, 10, 15],\n",
    "    'et__class_weight': [\"balanced\", \"balanced_subsample\"],\n",
    "    'et__max_features': [\"log2\"]\n",
    "            }"
   ]
  },
  {
   "cell_type": "code",
   "execution_count": 20,
   "metadata": {},
   "outputs": [
    {
     "name": "stdout",
     "output_type": "stream",
     "text": [
      "Fitting 5 folds for each of 162 candidates, totalling 810 fits\n",
      "### BEST PARAMS ###\n"
     ]
    },
    {
     "data": {
      "text/plain": [
       "Pipeline(steps=[('ss', StandardScaler()),\n",
       "                ('et',\n",
       "                 ExtraTreesClassifier(class_weight='balanced', max_depth=10,\n",
       "                                      max_features='log2', max_leaf_nodes=15,\n",
       "                                      min_samples_leaf=2, n_estimators=50,\n",
       "                                      random_state=19))])"
      ]
     },
     "metadata": {},
     "output_type": "display_data"
    },
    {
     "name": "stdout",
     "output_type": "stream",
     "text": [
      "### METRICS ###\n"
     ]
    },
    {
     "data": {
      "text/plain": [
       "{'model': 'et',\n",
       " 'train_auc': 0.9846222222222222,\n",
       " 'test_auc': 0.8208,\n",
       " 'precision': 0.6428571428571429,\n",
       " 'specificity': 0.8,\n",
       " 'recall': 0.72,\n",
       " 'f_score': 0.6792452830188679}"
      ]
     },
     "metadata": {},
     "output_type": "display_data"
    },
    {
     "name": "stdout",
     "output_type": "stream",
     "text": [
      "True Negatives: 40\n",
      "False Positives: 10\n",
      "False Negatives: 7\n",
      "True Positives: 18\n"
     ]
    }
   ],
   "source": [
    "et_gs =  run_model('et', mod_params=et_params, grid_search=True)"
   ]
  },
  {
   "cell_type": "markdown",
   "metadata": {},
   "source": [
    "### SVC\n",
    "\n",
    "The objective of the support vector machine algorithm is to find a hyperplane in an N-dimensional space(N — the number of features) that distinctly classifies the data points."
   ]
  },
  {
   "cell_type": "code",
   "execution_count": 21,
   "metadata": {},
   "outputs": [
    {
     "data": {
      "text/plain": [
       "{'memory': None,\n",
       " 'steps': [('svc', SVC())],\n",
       " 'verbose': False,\n",
       " 'svc': SVC(),\n",
       " 'svc__C': 1.0,\n",
       " 'svc__break_ties': False,\n",
       " 'svc__cache_size': 200,\n",
       " 'svc__class_weight': None,\n",
       " 'svc__coef0': 0.0,\n",
       " 'svc__decision_function_shape': 'ovr',\n",
       " 'svc__degree': 3,\n",
       " 'svc__gamma': 'scale',\n",
       " 'svc__kernel': 'rbf',\n",
       " 'svc__max_iter': -1,\n",
       " 'svc__probability': False,\n",
       " 'svc__random_state': None,\n",
       " 'svc__shrinking': True,\n",
       " 'svc__tol': 0.001,\n",
       " 'svc__verbose': False}"
      ]
     },
     "execution_count": 21,
     "metadata": {},
     "output_type": "execute_result"
    }
   ],
   "source": [
    "Pipeline([('svc', SVC())]).get_params()"
   ]
  },
  {
   "cell_type": "code",
   "execution_count": 22,
   "metadata": {},
   "outputs": [],
   "source": [
    "svc_params = {\n",
    "    'svc__gamma':[0.001, 0.01], \n",
    "    'svc__kernel':['linear', 'poly', 'rbf'],\n",
    "    'svc__degree': [2, 3],\n",
    "    'svc__class_weight': ['balanced'],\n",
    "    'svc__probability': [True]\n",
    "}"
   ]
  },
  {
   "cell_type": "code",
   "execution_count": 23,
   "metadata": {
    "scrolled": false
   },
   "outputs": [
    {
     "name": "stdout",
     "output_type": "stream",
     "text": [
      "Fitting 5 folds for each of 12 candidates, totalling 60 fits\n",
      "### BEST PARAMS ###\n"
     ]
    },
    {
     "data": {
      "text/plain": [
       "Pipeline(steps=[('ss', StandardScaler()),\n",
       "                ('svc',\n",
       "                 SVC(class_weight='balanced', degree=2, gamma=0.001,\n",
       "                     kernel='linear', probability=True, random_state=19))])"
      ]
     },
     "metadata": {},
     "output_type": "display_data"
    },
    {
     "name": "stdout",
     "output_type": "stream",
     "text": [
      "### METRICS ###\n"
     ]
    },
    {
     "data": {
      "text/plain": [
       "{'model': 'svc',\n",
       " 'train_auc': 0.8984,\n",
       " 'test_auc': 0.7807999999999998,\n",
       " 'precision': 0.6071428571428571,\n",
       " 'specificity': 0.78,\n",
       " 'recall': 0.68,\n",
       " 'f_score': 0.6415094339622641}"
      ]
     },
     "metadata": {},
     "output_type": "display_data"
    },
    {
     "name": "stdout",
     "output_type": "stream",
     "text": [
      "True Negatives: 39\n",
      "False Positives: 11\n",
      "False Negatives: 8\n",
      "True Positives: 17\n"
     ]
    }
   ],
   "source": [
    "svc_gs =  run_model('svc', mod_params=svc_params, grid_search=True)"
   ]
  },
  {
   "cell_type": "markdown",
   "metadata": {},
   "source": [
    "### Adaptive Boosting\n",
    "\n",
    "Adaptive boosting method is suitable for the weak base learners. It is an aggregation of many weak classifiers. The model adapts itself in every iteration sequentially based on the results of the previous iterations."
   ]
  },
  {
   "cell_type": "code",
   "execution_count": 24,
   "metadata": {},
   "outputs": [
    {
     "data": {
      "text/plain": [
       "{'memory': None,\n",
       " 'steps': [('ada', AdaBoostClassifier())],\n",
       " 'verbose': False,\n",
       " 'ada': AdaBoostClassifier(),\n",
       " 'ada__algorithm': 'SAMME.R',\n",
       " 'ada__base_estimator': None,\n",
       " 'ada__learning_rate': 1.0,\n",
       " 'ada__n_estimators': 50,\n",
       " 'ada__random_state': None}"
      ]
     },
     "execution_count": 24,
     "metadata": {},
     "output_type": "execute_result"
    }
   ],
   "source": [
    "Pipeline([('ada', AdaBoostClassifier())]).get_params()"
   ]
  },
  {
   "cell_type": "code",
   "execution_count": 25,
   "metadata": {},
   "outputs": [],
   "source": [
    "ada_params = {\n",
    "    'ada__base_estimator':[LogisticRegression() ,SVC()],\n",
    "    'ada__n_estimators': [150, 200],\n",
    "    'ada__algorithm': ['SAMME']\n",
    "             }"
   ]
  },
  {
   "cell_type": "code",
   "execution_count": 26,
   "metadata": {},
   "outputs": [
    {
     "name": "stdout",
     "output_type": "stream",
     "text": [
      "Fitting 5 folds for each of 4 candidates, totalling 20 fits\n",
      "### BEST PARAMS ###\n"
     ]
    },
    {
     "data": {
      "text/plain": [
       "Pipeline(steps=[('ss', StandardScaler()),\n",
       "                ('ada',\n",
       "                 AdaBoostClassifier(algorithm='SAMME',\n",
       "                                    base_estimator=LogisticRegression(),\n",
       "                                    n_estimators=150, random_state=19))])"
      ]
     },
     "metadata": {},
     "output_type": "display_data"
    },
    {
     "name": "stdout",
     "output_type": "stream",
     "text": [
      "### METRICS ###\n"
     ]
    },
    {
     "data": {
      "text/plain": [
       "{'model': 'ada',\n",
       " 'train_auc': 0.8456888888888888,\n",
       " 'test_auc': 0.8128000000000001,\n",
       " 'precision': 0.75,\n",
       " 'specificity': 0.9,\n",
       " 'recall': 0.6,\n",
       " 'f_score': 0.6666666666666665}"
      ]
     },
     "metadata": {},
     "output_type": "display_data"
    },
    {
     "name": "stdout",
     "output_type": "stream",
     "text": [
      "True Negatives: 45\n",
      "False Positives: 5\n",
      "False Negatives: 10\n",
      "True Positives: 15\n"
     ]
    }
   ],
   "source": [
    "ada_gs = run_model('ada', mod_params=ada_params, grid_search=True)"
   ]
  },
  {
   "cell_type": "markdown",
   "metadata": {},
   "source": [
    "### Gradient Boosting\n",
    "\n",
    "Gradient boosting is a generalization of Adaptive Boosting, improving the performance of the approach and introducing ideas from bootstrap aggregation to further improve the models, such as randomly sampling the samples and features when fitting ensemble members."
   ]
  },
  {
   "cell_type": "code",
   "execution_count": 27,
   "metadata": {},
   "outputs": [
    {
     "data": {
      "text/plain": [
       "{'memory': None,\n",
       " 'steps': [('gb', GradientBoostingClassifier())],\n",
       " 'verbose': False,\n",
       " 'gb': GradientBoostingClassifier(),\n",
       " 'gb__ccp_alpha': 0.0,\n",
       " 'gb__criterion': 'friedman_mse',\n",
       " 'gb__init': None,\n",
       " 'gb__learning_rate': 0.1,\n",
       " 'gb__loss': 'deviance',\n",
       " 'gb__max_depth': 3,\n",
       " 'gb__max_features': None,\n",
       " 'gb__max_leaf_nodes': None,\n",
       " 'gb__min_impurity_decrease': 0.0,\n",
       " 'gb__min_impurity_split': None,\n",
       " 'gb__min_samples_leaf': 1,\n",
       " 'gb__min_samples_split': 2,\n",
       " 'gb__min_weight_fraction_leaf': 0.0,\n",
       " 'gb__n_estimators': 100,\n",
       " 'gb__n_iter_no_change': None,\n",
       " 'gb__random_state': None,\n",
       " 'gb__subsample': 1.0,\n",
       " 'gb__tol': 0.0001,\n",
       " 'gb__validation_fraction': 0.1,\n",
       " 'gb__verbose': 0,\n",
       " 'gb__warm_start': False}"
      ]
     },
     "execution_count": 27,
     "metadata": {},
     "output_type": "execute_result"
    }
   ],
   "source": [
    "Pipeline([('gb', GradientBoostingClassifier())]).get_params()"
   ]
  },
  {
   "cell_type": "code",
   "execution_count": 28,
   "metadata": {},
   "outputs": [],
   "source": [
    "gb_params = {\n",
    "    'gb__n_estimators': [200, 300],\n",
    "    'gb__max_depth': [2, 4, 6],\n",
    "    'gb__max_features': [\"auto\"],\n",
    "    'gb__min_samples_leaf': [10, 12],\n",
    "    'gb__max_leaf_nodes': [5, 10]\n",
    "}"
   ]
  },
  {
   "cell_type": "code",
   "execution_count": 29,
   "metadata": {},
   "outputs": [
    {
     "name": "stdout",
     "output_type": "stream",
     "text": [
      "Fitting 5 folds for each of 24 candidates, totalling 120 fits\n",
      "### BEST PARAMS ###\n"
     ]
    },
    {
     "data": {
      "text/plain": [
       "Pipeline(steps=[('ss', StandardScaler()),\n",
       "                ('gb',\n",
       "                 GradientBoostingClassifier(max_depth=2, max_features='auto',\n",
       "                                            max_leaf_nodes=5,\n",
       "                                            min_samples_leaf=10,\n",
       "                                            n_estimators=300,\n",
       "                                            random_state=19))])"
      ]
     },
     "metadata": {},
     "output_type": "display_data"
    },
    {
     "name": "stdout",
     "output_type": "stream",
     "text": [
      "### METRICS ###\n"
     ]
    },
    {
     "data": {
      "text/plain": [
       "{'model': 'gb',\n",
       " 'train_auc': 1.0,\n",
       " 'test_auc': 0.772,\n",
       " 'precision': 0.7368421052631579,\n",
       " 'specificity': 0.9,\n",
       " 'recall': 0.56,\n",
       " 'f_score': 0.6363636363636364}"
      ]
     },
     "metadata": {},
     "output_type": "display_data"
    },
    {
     "name": "stdout",
     "output_type": "stream",
     "text": [
      "True Negatives: 45\n",
      "False Positives: 5\n",
      "False Negatives: 11\n",
      "True Positives: 14\n"
     ]
    }
   ],
   "source": [
    "gb_gs = run_model('gb', mod_params=gb_params, grid_search=True)"
   ]
  },
  {
   "cell_type": "markdown",
   "metadata": {},
   "source": [
    "### XG Boost\n",
    "\n",
    "Extreme gradient boosting is an ensemble learning similar to Random Forest, which builds the models sequentially, applies gradient descent to decrease the error rate, and reduces overfitting with tree pruning and regularization."
   ]
  },
  {
   "cell_type": "code",
   "execution_count": 30,
   "metadata": {},
   "outputs": [
    {
     "data": {
      "text/plain": [
       "{'memory': None,\n",
       " 'steps': [('xgb',\n",
       "   XGBClassifier(base_score=None, booster=None, colsample_bylevel=None,\n",
       "                 colsample_bynode=None, colsample_bytree=None, gamma=None,\n",
       "                 gpu_id=None, importance_type='gain', interaction_constraints=None,\n",
       "                 learning_rate=None, max_delta_step=None, max_depth=None,\n",
       "                 min_child_weight=None, missing=nan, monotone_constraints=None,\n",
       "                 n_estimators=100, n_jobs=None, num_parallel_tree=None,\n",
       "                 random_state=None, reg_alpha=None, reg_lambda=None,\n",
       "                 scale_pos_weight=None, subsample=None, tree_method=None,\n",
       "                 validate_parameters=None, verbosity=None))],\n",
       " 'verbose': False,\n",
       " 'xgb': XGBClassifier(base_score=None, booster=None, colsample_bylevel=None,\n",
       "               colsample_bynode=None, colsample_bytree=None, gamma=None,\n",
       "               gpu_id=None, importance_type='gain', interaction_constraints=None,\n",
       "               learning_rate=None, max_delta_step=None, max_depth=None,\n",
       "               min_child_weight=None, missing=nan, monotone_constraints=None,\n",
       "               n_estimators=100, n_jobs=None, num_parallel_tree=None,\n",
       "               random_state=None, reg_alpha=None, reg_lambda=None,\n",
       "               scale_pos_weight=None, subsample=None, tree_method=None,\n",
       "               validate_parameters=None, verbosity=None),\n",
       " 'xgb__objective': 'binary:logistic',\n",
       " 'xgb__use_label_encoder': True,\n",
       " 'xgb__base_score': None,\n",
       " 'xgb__booster': None,\n",
       " 'xgb__colsample_bylevel': None,\n",
       " 'xgb__colsample_bynode': None,\n",
       " 'xgb__colsample_bytree': None,\n",
       " 'xgb__gamma': None,\n",
       " 'xgb__gpu_id': None,\n",
       " 'xgb__importance_type': 'gain',\n",
       " 'xgb__interaction_constraints': None,\n",
       " 'xgb__learning_rate': None,\n",
       " 'xgb__max_delta_step': None,\n",
       " 'xgb__max_depth': None,\n",
       " 'xgb__min_child_weight': None,\n",
       " 'xgb__missing': nan,\n",
       " 'xgb__monotone_constraints': None,\n",
       " 'xgb__n_estimators': 100,\n",
       " 'xgb__n_jobs': None,\n",
       " 'xgb__num_parallel_tree': None,\n",
       " 'xgb__random_state': None,\n",
       " 'xgb__reg_alpha': None,\n",
       " 'xgb__reg_lambda': None,\n",
       " 'xgb__scale_pos_weight': None,\n",
       " 'xgb__subsample': None,\n",
       " 'xgb__tree_method': None,\n",
       " 'xgb__validate_parameters': None,\n",
       " 'xgb__verbosity': None}"
      ]
     },
     "execution_count": 30,
     "metadata": {},
     "output_type": "execute_result"
    }
   ],
   "source": [
    "Pipeline([('xgb', XGBClassifier())]).get_params()"
   ]
  },
  {
   "cell_type": "code",
   "execution_count": 31,
   "metadata": {},
   "outputs": [],
   "source": [
    "xgb_params = {\n",
    "     'xgb__use_label_encoder': [False],\n",
    "     'xgb__booster': ['gbtree', 'gblinear'],\n",
    "     'xgb__colsample_bytree': [0.5, 0.7, 1],\n",
    "     'xgb__gamma': [0.001, 0.01, 0.1],\n",
    "     'xgb__learning_rate': [0.001, 0.01, 0.1],\n",
    "     'xgb__max_depth': [10, 15, 20],\n",
    "     'xgb__n_estimators': [70, 90, 110]\n",
    "}"
   ]
  },
  {
   "cell_type": "code",
   "execution_count": 32,
   "metadata": {
    "scrolled": false
   },
   "outputs": [
    {
     "name": "stdout",
     "output_type": "stream",
     "text": [
      "Fitting 5 folds for each of 486 candidates, totalling 2430 fits\n",
      "[17:23:29] WARNING: C:/Users/Administrator/workspace/xgboost-win64_release_1.3.0/src/learner.cc:541: \n",
      "Parameters: { colsample_bytree, gamma, max_depth } might not be used.\n",
      "\n",
      "  This may not be accurate due to some parameters are only used in language bindings but\n",
      "  passed down to XGBoost core.  Or some parameters are not used but slip through this\n",
      "  verification. Please open an issue if you find above cases.\n",
      "\n",
      "\n",
      "[17:23:29] WARNING: C:/Users/Administrator/workspace/xgboost-win64_release_1.3.0/src/learner.cc:1061: Starting in XGBoost 1.3.0, the default evaluation metric used with the objective 'binary:logistic' was changed from 'error' to 'logloss'. Explicitly set eval_metric if you'd like to restore the old behavior.\n",
      "### BEST PARAMS ###\n"
     ]
    },
    {
     "data": {
      "text/plain": [
       "Pipeline(steps=[('ss', StandardScaler()),\n",
       "                ('xgb',\n",
       "                 XGBClassifier(base_score=0.5, booster='gblinear',\n",
       "                               colsample_bylevel=None, colsample_bynode=None,\n",
       "                               colsample_bytree=0.7, gamma=0.1, gpu_id=-1,\n",
       "                               importance_type='gain',\n",
       "                               interaction_constraints=None, learning_rate=0.1,\n",
       "                               max_delta_step=None, max_depth=20,\n",
       "                               min_child_weight=None, missing=nan,\n",
       "                               monotone_constraints=None, n_estimators=110,\n",
       "                               n_jobs=12, num_parallel_tree=None,\n",
       "                               random_state=19, reg_alpha=0, reg_lambda=0,\n",
       "                               scale_pos_weight=1, subsample=None,\n",
       "                               tree_method=None, use_label_encoder=False,\n",
       "                               validate_parameters=1, verbosity=None))])"
      ]
     },
     "metadata": {},
     "output_type": "display_data"
    },
    {
     "name": "stdout",
     "output_type": "stream",
     "text": [
      "### METRICS ###\n"
     ]
    },
    {
     "data": {
      "text/plain": [
       "{'model': 'xgb',\n",
       " 'train_auc': 0.8733333333333333,\n",
       " 'test_auc': 0.8392000000000001,\n",
       " 'precision': 0.8095238095238095,\n",
       " 'specificity': 0.92,\n",
       " 'recall': 0.68,\n",
       " 'f_score': 0.7391304347826089}"
      ]
     },
     "metadata": {},
     "output_type": "display_data"
    },
    {
     "name": "stdout",
     "output_type": "stream",
     "text": [
      "True Negatives: 46\n",
      "False Positives: 4\n",
      "False Negatives: 8\n",
      "True Positives: 17\n"
     ]
    }
   ],
   "source": [
    "xgb_gs = run_model('xgb', mod_params=xgb_params, grid_search=True)"
   ]
  },
  {
   "cell_type": "code",
   "execution_count": 33,
   "metadata": {},
   "outputs": [
    {
     "data": {
      "text/html": [
       "<div>\n",
       "<style scoped>\n",
       "    .dataframe tbody tr th:only-of-type {\n",
       "        vertical-align: middle;\n",
       "    }\n",
       "\n",
       "    .dataframe tbody tr th {\n",
       "        vertical-align: top;\n",
       "    }\n",
       "\n",
       "    .dataframe thead th {\n",
       "        text-align: right;\n",
       "    }\n",
       "</style>\n",
       "<table border=\"1\" class=\"dataframe\">\n",
       "  <thead>\n",
       "    <tr style=\"text-align: right;\">\n",
       "      <th></th>\n",
       "      <th>model</th>\n",
       "      <th>train_auc</th>\n",
       "      <th>test_auc</th>\n",
       "      <th>precision</th>\n",
       "      <th>specificity</th>\n",
       "      <th>recall</th>\n",
       "      <th>f_score</th>\n",
       "    </tr>\n",
       "  </thead>\n",
       "  <tbody>\n",
       "    <tr>\n",
       "      <th>0</th>\n",
       "      <td>lr</td>\n",
       "      <td>0.882311</td>\n",
       "      <td>0.8432</td>\n",
       "      <td>0.800000</td>\n",
       "      <td>0.92</td>\n",
       "      <td>0.64</td>\n",
       "      <td>0.711111</td>\n",
       "    </tr>\n",
       "    <tr>\n",
       "      <th>6</th>\n",
       "      <td>xgb</td>\n",
       "      <td>0.873333</td>\n",
       "      <td>0.8392</td>\n",
       "      <td>0.809524</td>\n",
       "      <td>0.92</td>\n",
       "      <td>0.68</td>\n",
       "      <td>0.739130</td>\n",
       "    </tr>\n",
       "    <tr>\n",
       "      <th>2</th>\n",
       "      <td>et</td>\n",
       "      <td>0.984622</td>\n",
       "      <td>0.8208</td>\n",
       "      <td>0.642857</td>\n",
       "      <td>0.80</td>\n",
       "      <td>0.72</td>\n",
       "      <td>0.679245</td>\n",
       "    </tr>\n",
       "    <tr>\n",
       "      <th>4</th>\n",
       "      <td>ada</td>\n",
       "      <td>0.845689</td>\n",
       "      <td>0.8128</td>\n",
       "      <td>0.750000</td>\n",
       "      <td>0.90</td>\n",
       "      <td>0.60</td>\n",
       "      <td>0.666667</td>\n",
       "    </tr>\n",
       "    <tr>\n",
       "      <th>1</th>\n",
       "      <td>rf</td>\n",
       "      <td>0.988267</td>\n",
       "      <td>0.7912</td>\n",
       "      <td>0.789474</td>\n",
       "      <td>0.92</td>\n",
       "      <td>0.60</td>\n",
       "      <td>0.681818</td>\n",
       "    </tr>\n",
       "    <tr>\n",
       "      <th>3</th>\n",
       "      <td>svc</td>\n",
       "      <td>0.898400</td>\n",
       "      <td>0.7808</td>\n",
       "      <td>0.607143</td>\n",
       "      <td>0.78</td>\n",
       "      <td>0.68</td>\n",
       "      <td>0.641509</td>\n",
       "    </tr>\n",
       "    <tr>\n",
       "      <th>5</th>\n",
       "      <td>gb</td>\n",
       "      <td>1.000000</td>\n",
       "      <td>0.7720</td>\n",
       "      <td>0.736842</td>\n",
       "      <td>0.90</td>\n",
       "      <td>0.56</td>\n",
       "      <td>0.636364</td>\n",
       "    </tr>\n",
       "  </tbody>\n",
       "</table>\n",
       "</div>"
      ],
      "text/plain": [
       "  model  train_auc  test_auc  precision  specificity  recall   f_score\n",
       "0    lr   0.882311    0.8432   0.800000         0.92    0.64  0.711111\n",
       "6   xgb   0.873333    0.8392   0.809524         0.92    0.68  0.739130\n",
       "2    et   0.984622    0.8208   0.642857         0.80    0.72  0.679245\n",
       "4   ada   0.845689    0.8128   0.750000         0.90    0.60  0.666667\n",
       "1    rf   0.988267    0.7912   0.789474         0.92    0.60  0.681818\n",
       "3   svc   0.898400    0.7808   0.607143         0.78    0.68  0.641509\n",
       "5    gb   1.000000    0.7720   0.736842         0.90    0.56  0.636364"
      ]
     },
     "execution_count": 33,
     "metadata": {},
     "output_type": "execute_result"
    }
   ],
   "source": [
    "gs_df = pd.DataFrame(gs_list)\n",
    "gs_df.sort_values(by='test_auc', ascending=False)"
   ]
  },
  {
   "cell_type": "markdown",
   "metadata": {},
   "source": [
    "At this point, it's a bit hard to conclude which is the best classification model. Our Logistic Regression classifier has the best test AUC scores, and XGBoosting Classifier has better precision and recall scores which is good at identifying true positives."
   ]
  },
  {
   "cell_type": "markdown",
   "metadata": {},
   "source": [
    "## AUC-ROC Evaluation"
   ]
  },
  {
   "cell_type": "code",
   "execution_count": 34,
   "metadata": {},
   "outputs": [
    {
     "data": {
      "image/png": "[encoded data removed]",
      "text/plain": [
       "<Figure size 432x288 with 1 Axes>"
      ]
     },
     "metadata": {
      "needs_background": "light"
     },
     "output_type": "display_data"
    }
   ],
   "source": [
    "disp = plot_roc_curve(lr_gs, X_test, y_test, name='Logistic Regression')\n",
    "plot_roc_curve(xgb_gs, X_test, y_test, ax=disp.ax_, name='XGBoosting')\n",
    "plot_roc_curve(et_gs, X_test, y_test, ax=disp.ax_, name='ExtraTree');"
   ]
  },
  {
   "cell_type": "markdown",
   "metadata": {},
   "source": [
    "Logistic Regression and eXtreme Gradient Boosting classifier seem to have a slower drop off in true positive versus false positive rate. However, Extra Tree classifier tends to have a faster drop off in true positive versus false positive rate."
   ]
  },
  {
   "cell_type": "markdown",
   "metadata": {},
   "source": [
    "## Precision-Recall Curve\n",
    "\n",
    "Beyond focusing just on AUC which looks at how good our modelling is at separating our positive and negative class, we also want to pay close attention to our model's ability to classify most or all of our minority class (which in this case is our positive class). \n",
    "\n",
    "Using a Precision-Recall curve, we can look at the tradeoff between a classifier’s precision, a measure of result relevancy, and recall, a measure of completeness. Precision is defined as the ratio of true positives to the sum of true and false positives, and recall is the ratio of true positives to the sum of true positives and false negatives.\n",
    "\n",
    "For diagnostic tests, I think we should first like to know the sensitivity (= recall) because we want to be sure that the test identifies the vast majority of persons with a CKD as having the CKD \n",
    "\n",
    "Then we would like to know the positive predictive value (= precision) because precision tells us how sure we can be, when we have a positive result, that the person actually has the CKD. Thus, we know how good the test is at discriminating persons with CKD from those without CKD.\n",
    "\n",
    "In this case, Logistic Regression and eXtreme Gradient Boosting classifier seems to have similar performance, but it looks like the eXtreme Gradient Boosting classifier slightly edges out. Thus, eXtreme Gradient Boosting classifier is a better model for this problem.\n",
    "\n",
    "[eXtreme Gradient Boosting classifier](https://analyticsindiamag.com/xgboost-internal-working-to-make-decision-trees-and-deduce-predictions/) falls under the category of Boosting techniques in Ensemble Learning. Ensemble learning consists of a collection of predictors which are multiple models to provide better prediction accuracy. In Boosting technique the errors made by previous models are tried to be corrected by succeeding models by adding some weights to the models. \n",
    "\n",
    "eXtreme Gradient Boosting classifier implements normally performs learning based on boosting trees, it also implements a second algorithm based on linear boosting. In this case, linear boosting is gets slightly better performance metrics than boosting trees because there is nothing better than a linear algorithm to catch a linear link."
   ]
  },
  {
   "cell_type": "code",
   "execution_count": 35,
   "metadata": {},
   "outputs": [
    {
     "data": {
      "image/png": "[encoded data removed]",
      "text/plain": [
       "<Figure size 432x288 with 1 Axes>"
      ]
     },
     "metadata": {
      "needs_background": "light"
     },
     "output_type": "display_data"
    }
   ],
   "source": [
    "disp = plot_precision_recall_curve(lr_gs, X_test, y_test, name='Logistic Regression')\n",
    "plot_precision_recall_curve(xgb_gs, X_test, y_test, ax=disp.ax_, name='XGBoosting')\n",
    "plot_precision_recall_curve(et_gs, X_test, y_test, ax=disp.ax_, name='Extra Tree');"
   ]
  },
  {
   "cell_type": "markdown",
   "metadata": {},
   "source": [
    "## Results"
   ]
  },
  {
   "cell_type": "code",
   "execution_count": 77,
   "metadata": {},
   "outputs": [
    {
     "data": {
      "text/html": [
       "<div>\n",
       "<style scoped>\n",
       "    .dataframe tbody tr th:only-of-type {\n",
       "        vertical-align: middle;\n",
       "    }\n",
       "\n",
       "    .dataframe tbody tr th {\n",
       "        vertical-align: top;\n",
       "    }\n",
       "\n",
       "    .dataframe thead th {\n",
       "        text-align: right;\n",
       "    }\n",
       "</style>\n",
       "<table border=\"1\" class=\"dataframe\">\n",
       "  <thead>\n",
       "    <tr style=\"text-align: right;\">\n",
       "      <th></th>\n",
       "      <th>Coefficient</th>\n",
       "    </tr>\n",
       "  </thead>\n",
       "  <tbody>\n",
       "    <tr>\n",
       "      <th>last_ldl</th>\n",
       "      <td>1.918330</td>\n",
       "    </tr>\n",
       "    <tr>\n",
       "      <th>last_glu</th>\n",
       "      <td>1.206630</td>\n",
       "    </tr>\n",
       "    <tr>\n",
       "      <th>last_sbp</th>\n",
       "      <td>0.836097</td>\n",
       "    </tr>\n",
       "    <tr>\n",
       "      <th>egfr</th>\n",
       "      <td>0.729090</td>\n",
       "    </tr>\n",
       "    <tr>\n",
       "      <th>last_dbp</th>\n",
       "      <td>0.316028</td>\n",
       "    </tr>\n",
       "    <tr>\n",
       "      <th>max_hgb</th>\n",
       "      <td>0.284113</td>\n",
       "    </tr>\n",
       "    <tr>\n",
       "      <th>max_cr</th>\n",
       "      <td>0.193422</td>\n",
       "    </tr>\n",
       "    <tr>\n",
       "      <th>mean_cr</th>\n",
       "      <td>0.173360</td>\n",
       "    </tr>\n",
       "    <tr>\n",
       "      <th>gender</th>\n",
       "      <td>0.136044</td>\n",
       "    </tr>\n",
       "    <tr>\n",
       "      <th>race_Unknown</th>\n",
       "      <td>0.129227</td>\n",
       "    </tr>\n",
       "  </tbody>\n",
       "</table>\n",
       "</div>"
      ],
      "text/plain": [
       "              Coefficient\n",
       "last_ldl         1.918330\n",
       "last_glu         1.206630\n",
       "last_sbp         0.836097\n",
       "egfr             0.729090\n",
       "last_dbp         0.316028\n",
       "max_hgb          0.284113\n",
       "max_cr           0.193422\n",
       "mean_cr          0.173360\n",
       "gender           0.136044\n",
       "race_Unknown     0.129227"
      ]
     },
     "execution_count": 77,
     "metadata": {},
     "output_type": "execute_result"
    }
   ],
   "source": [
    "feat_imp = pd.DataFrame(data=xgb_gs.steps[1][1].coef_, index=X.columns, columns=['Coefficient']).sort_values('Coefficient', ascending=False)\n",
    "feat_imp.head(10)"
   ]
  },
  {
   "cell_type": "code",
   "execution_count": 40,
   "metadata": {},
   "outputs": [
    {
     "data": {
      "image/png": "[encoded data removed]",
      "text/plain": [
       "<Figure size 1440x1080 with 1 Axes>"
      ]
     },
     "metadata": {
      "needs_background": "light"
     },
     "output_type": "display_data"
    }
   ],
   "source": [
    "feature_importance = xgb_gs.steps[1][1].coef_\n",
    "sorted_idx = np.argsort(feature_importance)\n",
    "pos = np.arange(sorted_idx.shape[0])\n",
    "fig = plt.figure(figsize=(20, 15))\n",
    "plt.subplot(1, 2, 1)\n",
    "plt.barh(pos, feature_importance[sorted_idx], align='center', color='darkorange')\n",
    "plt.yticks(pos, np.array(X_train.columns)[sorted_idx], fontsize = 13)\n",
    "plt.title('Feature Importance', fontsize = 20);"
   ]
  },
  {
   "cell_type": "markdown",
   "metadata": {},
   "source": [
    "## Refit model to complete Data"
   ]
  },
  {
   "cell_type": "code",
   "execution_count": 55,
   "metadata": {},
   "outputs": [
    {
     "name": "stdout",
     "output_type": "stream",
     "text": [
      "Fitting 5 folds for each of 324 candidates, totalling 1620 fits\n",
      "[16:27:05] WARNING: C:/Users/Administrator/workspace/xgboost-win64_release_1.3.0/src/learner.cc:541: \n",
      "Parameters: { colsample_bytree, gamma, max_depth } might not be used.\n",
      "\n",
      "  This may not be accurate due to some parameters are only used in language bindings but\n",
      "  passed down to XGBoost core.  Or some parameters are not used but slip through this\n",
      "  verification. Please open an issue if you find above cases.\n",
      "\n",
      "\n",
      "[16:27:05] WARNING: C:/Users/Administrator/workspace/xgboost-win64_release_1.3.0/src/learner.cc:1061: Starting in XGBoost 1.3.0, the default evaluation metric used with the objective 'binary:logistic' was changed from 'error' to 'logloss'. Explicitly set eval_metric if you'd like to restore the old behavior.\n"
     ]
    },
    {
     "data": {
      "text/plain": [
       "Pipeline(steps=[('ss', StandardScaler()),\n",
       "                ('xgb',\n",
       "                 XGBClassifier(base_score=0.5, booster='gblinear',\n",
       "                               colsample_bylevel=None, colsample_bynode=None,\n",
       "                               colsample_bytree=0.5, gamma=0.001, gpu_id=-1,\n",
       "                               importance_type='gain',\n",
       "                               interaction_constraints=None, learning_rate=0.1,\n",
       "                               max_delta_step=None, max_depth=10,\n",
       "                               min_child_weight=None, missing=nan,\n",
       "                               monotone_constraints=None, n_estimators=500,\n",
       "                               n_jobs=12, num_parallel_tree=None,\n",
       "                               random_state=19, reg_alpha=0, reg_lambda=0,\n",
       "                               scale_pos_weight=1, subsample=None,\n",
       "                               tree_method=None, use_label_encoder=False,\n",
       "                               validate_parameters=1, verbosity=None))])"
      ]
     },
     "execution_count": 55,
     "metadata": {},
     "output_type": "execute_result"
    }
   ],
   "source": [
    "# instantiate pipeline\n",
    "pipe_xgb = Pipeline([('ss', StandardScaler()),\n",
    "                     ('xgb', XGBClassifier(random_state=19))])\n",
    "\n",
    "# Define dictionary of hyperparameters\n",
    "pipe_params_xgb = {\n",
    "     'xgb__use_label_encoder': [False],\n",
    "     'xgb__booster': ['gbtree', 'gblinear'],\n",
    "     'xgb__colsample_bytree': [0.5, 0.7, 1],\n",
    "     'xgb__gamma': [0.001, 0.01, 0.1],\n",
    "     'xgb__learning_rate': [0.001, 0.01, 0.1],\n",
    "     'xgb__max_depth': [10, 15, 20],\n",
    "     'xgb__n_estimators': [500, 700]\n",
    "}\n",
    "\n",
    "# Instantiate GridSearchCV.\n",
    "gs_xgb = GridSearchCV(pipe_xgb, param_grid=pipe_params_xgb, cv=5, verbose=1, scoring='roc_auc', n_jobs=-1)\n",
    "\n",
    "# fit to X, y\n",
    "gs_xgb.fit(X, y)\n",
    "\n",
    "# find the best estimator\n",
    "gs_xgb_model = gs_xgb.best_estimator_\n",
    "gs_xgb_model"
   ]
  },
  {
   "cell_type": "code",
   "execution_count": 57,
   "metadata": {},
   "outputs": [
    {
     "name": "stdout",
     "output_type": "stream",
     "text": [
      "CKD data AUC: 0.8934\n",
      "CKD data precision: 0.7614\n",
      "CKD data specificity: 0.895\n",
      "CKD data recall: 0.67\n",
      "CKD data F1 score: 0.71\n",
      "True Negatives: 179\n",
      "False Positives: 21\n",
      "False Negatives: 33\n",
      "True Positives: 67\n"
     ]
    }
   ],
   "source": [
    "predictions = gs_xgb_model.predict(X)\n",
    "tn, fp, fn, tp = confusion_matrix(y, predictions).ravel()\n",
    "y_pred_prob = gs_xgb.predict_proba(X)[:,1]\n",
    "\n",
    "print(f'CKD data AUC: {round(roc_auc_score(y, y_pred_prob), 4)}')\n",
    "print(f'CKD data precision: {round(precision_score(y, predictions), 4)}')\n",
    "print(f'CKD data specificity: {round((tn / (tn + fp)), 4)}')\n",
    "print(f'CKD data recall: {round(recall_score(y, predictions), 4)}')\n",
    "print(f'CKD data F1 score: {round(f1_score(y, predictions), 2)}')\n",
    "\n",
    "print(f\"True Negatives: {tn}\")\n",
    "print(f\"False Positives: {fp}\")\n",
    "print(f\"False Negatives: {fn}\")\n",
    "print(f\"True Positives: {tp}\")"
   ]
  },
  {
   "cell_type": "code",
   "execution_count": 86,
   "metadata": {},
   "outputs": [
    {
     "data": {
      "image/png": "[encoded data removed]",
      "text/plain": [
       "<Figure size 432x288 with 1 Axes>"
      ]
     },
     "metadata": {
      "needs_background": "light"
     },
     "output_type": "display_data"
    }
   ],
   "source": [
    "disp = plot_roc_curve(gs_xgb_model, X, y, name='XGB_Final')"
   ]
  },
  {
   "cell_type": "code",
   "execution_count": 61,
   "metadata": {},
   "outputs": [
    {
     "data": {
      "text/plain": [
       "0    212\n",
       "1     88\n",
       "Name: 0, dtype: int64"
      ]
     },
     "execution_count": 61,
     "metadata": {},
     "output_type": "execute_result"
    }
   ],
   "source": [
    "# gs_xgb_model prediction results\n",
    "df_1 = pd.DataFrame(predictions)\n",
    "df_1[0].value_counts()"
   ]
  },
  {
   "cell_type": "code",
   "execution_count": 78,
   "metadata": {},
   "outputs": [
    {
     "data": {
      "text/html": [
       "<div>\n",
       "<style scoped>\n",
       "    .dataframe tbody tr th:only-of-type {\n",
       "        vertical-align: middle;\n",
       "    }\n",
       "\n",
       "    .dataframe tbody tr th {\n",
       "        vertical-align: top;\n",
       "    }\n",
       "\n",
       "    .dataframe thead th {\n",
       "        text-align: right;\n",
       "    }\n",
       "</style>\n",
       "<table border=\"1\" class=\"dataframe\">\n",
       "  <thead>\n",
       "    <tr style=\"text-align: right;\">\n",
       "      <th></th>\n",
       "      <th>Coefficient</th>\n",
       "    </tr>\n",
       "  </thead>\n",
       "  <tbody>\n",
       "    <tr>\n",
       "      <th>last_ldl</th>\n",
       "      <td>3.273420</td>\n",
       "    </tr>\n",
       "    <tr>\n",
       "      <th>last_glu</th>\n",
       "      <td>1.709980</td>\n",
       "    </tr>\n",
       "    <tr>\n",
       "      <th>max_hgb</th>\n",
       "      <td>1.597060</td>\n",
       "    </tr>\n",
       "    <tr>\n",
       "      <th>egfr</th>\n",
       "      <td>1.328400</td>\n",
       "    </tr>\n",
       "    <tr>\n",
       "      <th>last_sbp</th>\n",
       "      <td>1.136690</td>\n",
       "    </tr>\n",
       "    <tr>\n",
       "      <th>last_cr</th>\n",
       "      <td>0.598164</td>\n",
       "    </tr>\n",
       "    <tr>\n",
       "      <th>max_dbp</th>\n",
       "      <td>0.581859</td>\n",
       "    </tr>\n",
       "    <tr>\n",
       "      <th>max_cr</th>\n",
       "      <td>0.528586</td>\n",
       "    </tr>\n",
       "    <tr>\n",
       "      <th>max_sbp</th>\n",
       "      <td>0.371754</td>\n",
       "    </tr>\n",
       "    <tr>\n",
       "      <th>last_dbp</th>\n",
       "      <td>0.294745</td>\n",
       "    </tr>\n",
       "  </tbody>\n",
       "</table>\n",
       "</div>"
      ],
      "text/plain": [
       "          Coefficient\n",
       "last_ldl     3.273420\n",
       "last_glu     1.709980\n",
       "max_hgb      1.597060\n",
       "egfr         1.328400\n",
       "last_sbp     1.136690\n",
       "last_cr      0.598164\n",
       "max_dbp      0.581859\n",
       "max_cr       0.528586\n",
       "max_sbp      0.371754\n",
       "last_dbp     0.294745"
      ]
     },
     "execution_count": 78,
     "metadata": {},
     "output_type": "execute_result"
    }
   ],
   "source": [
    "final_feat_imp = pd.DataFrame(data=gs_xgb_model.steps[1][1].coef_, index=X.columns, columns=['Coefficient']).sort_values('Coefficient', ascending=False)\n",
    "final_feat_imp.head(10)"
   ]
  },
  {
   "cell_type": "markdown",
   "metadata": {},
   "source": [
    "The __top features__ that impact the prediction based on the eXtreme Gradient Boosting classifier are:\n",
    "\n",
    "1. Latest reading of the patients (LDL, Glucose, SBP, Creatinine, DBP)\n",
    "2. eGFR (base on latest Creatinine reading, age, gender and race)\n",
    "3. Maximum reading of the patients (HGB, DBP, Creatinine and SBP)"
   ]
  },
  {
   "cell_type": "code",
   "execution_count": 81,
   "metadata": {},
   "outputs": [
    {
     "data": {
      "image/png": "[encoded data removed]",
      "text/plain": [
       "<Figure size 1440x1080 with 1 Axes>"
      ]
     },
     "metadata": {
      "needs_background": "light"
     },
     "output_type": "display_data"
    }
   ],
   "source": [
    "feature_importance = gs_xgb_model.steps[1][1].coef_\n",
    "sorted_idx = np.argsort(feature_importance)\n",
    "pos = np.arange(sorted_idx.shape[0])\n",
    "fig = plt.figure(figsize=(20, 15))\n",
    "plt.subplot(1, 2, 1)\n",
    "plt.barh(pos, feature_importance[sorted_idx], align='center', color='darkorange')\n",
    "plt.yticks(pos, np.array(X_train.columns)[sorted_idx], fontsize = 13)\n",
    "plt.title('Feature Importance', fontsize = 20);"
   ]
  },
  {
   "cell_type": "code",
   "execution_count": 84,
   "metadata": {},
   "outputs": [],
   "source": [
    "# Saving final model for future analysis\n",
    "pkl_final_model = 'data/final_model.pkl'\n",
    "pickle.dump(gs_xgb_model, open(pkl_final_model, 'wb'))"
   ]
  },
  {
   "attachments": {},
   "cell_type": "markdown",
   "metadata": {},
   "source": [
    "## Conclusion\n",
    "\n",
    "I am pleased that my model (eXtreme Gradient Boosting classifier) is able to predicts a relatively high level of AUC (0.83), precision (0.81) and recall (0.68) value.\n",
    "\n",
    "However, I have some concern about model accuracy because of:\n",
    "1. Imbalance race, gender and data presented\n",
    "2. Number of data point per patient per feature is inconsistent"
   ]
  },
  {
   "cell_type": "code",
   "execution_count": null,
   "metadata": {},
   "outputs": [],
   "source": []
  }
 ],
 "metadata": {
  "kernelspec": {
   "display_name": "Python 3",
   "language": "python",
   "name": "python3"
  },
  "language_info": {
   "codemirror_mode": {
    "name": "ipython",
    "version": 3
   },
   "file_extension": ".py",
   "mimetype": "text/x-python",
   "name": "python",
   "nbconvert_exporter": "python",
   "pygments_lexer": "ipython3",
   "version": "3.8.5"
  },
  "toc": {
   "base_numbering": 1,
   "nav_menu": {},
   "number_sections": true,
   "sideBar": true,
   "skip_h1_title": false,
   "title_cell": "Table of Contents",
   "title_sidebar": "Contents",
   "toc_cell": false,
   "toc_position": {},
   "toc_section_display": true,
   "toc_window_display": false
  }
 },
 "nbformat": 4,
 "nbformat_minor": 4
}
